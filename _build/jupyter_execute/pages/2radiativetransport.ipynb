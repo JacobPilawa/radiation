{
 "cells": [
  {
   "cell_type": "markdown",
   "metadata": {},
   "source": [
    "# Radiative Transport"
   ]
  },
  {
   "cell_type": "markdown",
   "metadata": {},
   "source": [
    "## Radiative Transfer Equation"
   ]
  },
  {
   "cell_type": "markdown",
   "metadata": {},
   "source": [
    "### Absorption"
   ]
  },
  {
   "cell_type": "markdown",
   "metadata": {},
   "source": [
    "Say some radiation $I_\\nu$ passes through a region $ds$ of absorption/scattering on its way to us. Then:\n",
    "\n",
    "$$\n",
    "dI_{\\nu }=-\\alpha _{\\nu }I_{\\nu }ds\n",
    "$$\n",
    "\n",
    "where $\\alpha_\\nu$ is the extinction coefficient (units of $cm^{-1}$). We may compute $\\alpha_nu$ a couple different ways:\n",
    "\n",
    "$$\n",
    "\\alpha_\\nu = n \\sigma_\\nu = \\rho \\kappa_\\nu\n",
    "$$\n",
    "\n",
    "where:\n",
    "\n",
    "* $n$ is the number density\n",
    "* $\\sigma_\\nu$ os the cross section\n",
    "* $\\rho$ is the mass desnity\n",
    "* $\\kappa_\\nu$ is the opacity"
   ]
  },
  {
   "cell_type": "markdown",
   "metadata": {},
   "source": [
    "Solving for intensity, we find:\n",
    "\n",
    "$$\n",
    "I_\\nu(s) = e^{-n\\sigma_\\nu s} = e^{-\\tau_\\nu}\n",
    "$$\n",
    "\n",
    "where $\\tau_\\nu$ is the optical depth at $\\nu$. Optical depth is often computed as:\n",
    "\n",
    "$$\n",
    "\\tau_\\nu = n \\sigma_\\nu s = N \\sigma_\\nu \n",
    "$$\n",
    "\n",
    "where $N$ is the column density of absorbers. Similarly, we have:\n",
    "\n",
    "$$\n",
    "\\tau_\\nu = \\rho \\kappa_\\nu s = \\Sigma \\kappa_\\nu\n",
    "$$\n",
    "\n",
    "where $\\Sigma$ is the mass surface density and $\\kappa_\\nu$ is the density-weighted extinction coefficient. \n",
    "\n",
    "Note that when $\\tau \\gg 1$, we say it is **optically thick**, and when $\\tau \\ll 1$, we say we are **optically thin**. \n"
   ]
  },
  {
   "cell_type": "markdown",
   "metadata": {},
   "source": [
    "The **mean free path** is given by:\n",
    "\n",
    "$$\n",
    "\\lambda_\\nu = \\alpha_\\nu^{-1} = \\frac{1}{n\\sigma_\\nu} \n",
    "$$\n",
    "\n",
    "Thus, we have:\n",
    "\n",
    "$$\n",
    "\\tau_\\nu = \\frac{s}{\\lambda_\\nu}\n",
    "$$\n",
    "\n",
    "That is, the optical depth is the number of mean-free-paths deep a medium is. For Poisson processes, the probability of absorption is given by:\n",
    "\n",
    "$$\n",
    "P(n)={e^{-{s \\over \\lambda _{mfp,\\nu }}}\\left({s \\over \\lambda _{mfp,\\nu }}\\right)^{n} \\over n!}\n",
    "$$\n",
    "\n",
    "And therefore:\n",
    "\n",
    "$$\n",
    "I_\\nu(s) = I_\\nu(0) e^{-\\alpha_\\nu s}\n",
    "$$"
   ]
  },
  {
   "cell_type": "markdown",
   "metadata": {},
   "source": [
    "### Emission"
   ]
  },
  {
   "cell_type": "markdown",
   "metadata": {},
   "source": [
    "If $j_{\\nu }$ is the emissivity, then the contribution of the emissivity of a medium to the flux is:\n",
    "\n",
    "\n",
    "$$\n",
    "{\\displaystyle dI_{\\nu }=j_{\\nu }ds\\,\\!}{\\displaystyle dI_{\\nu }=j_{\\nu }ds\\,\\!}\n",
    "$$"
   ]
  },
  {
   "cell_type": "markdown",
   "metadata": {},
   "source": [
    "### Emission and Extinction Together"
   ]
  },
  {
   "cell_type": "markdown",
   "metadata": {},
   "source": [
    "$$\n",
    "{\\displaystyle {{dI_{\\nu } \\over ds}=j_{\\nu }-\\alpha _{\\nu }I_{\\nu }}\\,\\!}\n",
    "$$\n",
    "\n",
    "It is often convenient to express this in terms of optical depth. Dividing by $\\alpha_\\nu$ and recognizing $d\\tau_\\nu = \\alpha_\\nu \\, ds$:\n",
    "\n",
    "$$\n",
    "{\\displaystyle {\\begin{aligned}{dI_{\\nu } \\over d\\tau _{\\nu }}&={j_{\\nu } \\over \\alpha _{\\nu }}-I_{\\nu }\\\\&=S_{\\nu }-I_{\\nu }\\\\\\end{aligned}}\\,\\!}\n",
    "$$\n",
    "\n",
    "where ${\\displaystyle S_{\\nu }}$ is a “source function”. In general,\n",
    "\n",
    "\n",
    "$$\n",
    "{\\displaystyle S_{\\nu }{\\big |}_{scattering}\\propto \\int {I_{\\nu }d\\Omega }\\,\\!}\n",
    "$$"
   ]
  },
  {
   "cell_type": "markdown",
   "metadata": {},
   "source": [
    "There is a formal solution for $I_\\nu$. Let's define $\\hat{I} \\equiv Ie^{-\\tau_\\nu}$ and $\\hat{S} \\equiv S e^{-\\tau_\\nu}$. Then: \n",
    "\n",
    "$$\n",
    "{\\displaystyle {d{\\tilde {I}} \\over d\\tau _{\\nu }}={\\tilde {S}}\\,\\!}\n",
    "$$\n",
    "\n",
    "$$\n",
    "{\\displaystyle {\\tilde {I}}(\\tau _{\\nu })={\\tilde {I}}(0)+\\int _{0}^{\\tau _{\\nu }}{{\\tilde {S}}~d{\\tilde {\\tau }}_{\\nu }}\\,\\!}\n",
    "$$\n",
    "\n",
    "$$\n",
    "{\\displaystyle {I_{\\nu }(\\tau _{\\nu })=\\overbrace {I_{\\nu }(0)e^{-\\tau _{\\nu }}} ^{background\\ light}+\\overbrace {\\int _{0}^{\\tau _{\\nu }}{S_{\\nu }(\\tau _{\\nu }^{\\prime })\\underbrace {e^{-(\\tau _{\\nu }-\\tau _{\\nu }^{\\prime })}} _{self-absorption}d\\tau _{\\nu }^{\\prime }}} ^{glowing\\ medium}}\\,\\!}\n",
    "$$"
   ]
  },
  {
   "cell_type": "markdown",
   "metadata": {},
   "source": [
    "**If $S_\\nu$ is constant with $\\tau_\\nu$, then:**\n",
    "\n",
    "$$\n",
    "\\boxed{{\\displaystyle I_{\\nu }(\\tau _{\\nu })=I_{\\nu }(0)e^{-\\tau _{\\nu }}+S_{\\nu }(1-e^{-\\tau _{\\nu }})\\,\\!}}\n",
    "$$"
   ]
  },
  {
   "cell_type": "markdown",
   "metadata": {},
   "source": [
    "That second term on the righthand side can be approximated as ${\\displaystyle S_{\\nu }\\tau _{\\nu }}$ for ${\\displaystyle \\tau _{\\nu }\\ll 1}$, since self-absorption is negligible. Similarly, for ${\\displaystyle \\tau _{\\nu }\\gg 1}$, it may be approximated as ${\\displaystyle S_{\\nu }}$. The source function ${\\displaystyle S_{\\nu }}$ is everything. It has both the absorption and emission coefficients embedded in it."
   ]
  },
  {
   "cell_type": "markdown",
   "metadata": {},
   "source": [
    "## Optical Depth"
   ]
  },
  {
   "cell_type": "markdown",
   "metadata": {},
   "source": [
    "Examples from [Astrobaki](https://casper.astro.berkeley.edu/astrobaki/index.php/Optical_Depth):"
   ]
  },
  {
   "cell_type": "markdown",
   "metadata": {},
   "source": [
    "![](../figures/250px-Mona_lisa_vs_radius.png)\n"
   ]
  },
  {
   "cell_type": "markdown",
   "metadata": {},
   "source": [
    "An example of the Mona Lisa at optical depth of ${\\displaystyle \\tau =0.1}$, for obscuring particles of various radii. To achieve the same optical depth, particles with a smaller cross-sectional area need to have a higher column density."
   ]
  },
  {
   "cell_type": "markdown",
   "metadata": {},
   "source": [
    "![](../figures/250px-Mona_lisa_vs_opt_depth.png)\n",
    "\n"
   ]
  },
  {
   "cell_type": "markdown",
   "metadata": {},
   "source": [
    "The Mona Lisa at various optical depths, illustrating how the transition from optically thin to optically thick erases the background picture."
   ]
  },
  {
   "cell_type": "markdown",
   "metadata": {},
   "source": [
    "![](../figures/250px-Fog.png)\n",
    "\n"
   ]
  },
  {
   "cell_type": "markdown",
   "metadata": {},
   "source": [
    "A useful real world example of optical depth is fog. Within a fog cloud, nearby objects are clearly visible and distant objects are completely obscured. At intermediate distances, objects are difficult but not impossible to discern. In this image, the tree to the left corresponds to an optical depth of approximately 1, since it is mostly obscured, though still visible. The person in the foreground is at an optical depth of less than 1 (perhaps around 0.5), since they are easily discernable and there is very little fog blocking light between the person and the observer. Lastly, the end of the road is at an optical depth much greater than 1, since it is completely covered over by the fog and invisible to the observer.\n"
   ]
  },
  {
   "cell_type": "markdown",
   "metadata": {},
   "source": [
    "## Takeaways"
   ]
  },
  {
   "cell_type": "markdown",
   "metadata": {},
   "source": [
    "* **Equation of Radiative Transfer**\n",
    "$$\n",
    "{\\displaystyle {{dI_{\\nu } \\over ds}=j_{\\nu }-\\alpha _{\\nu }I_{\\nu }}\\,\\!}\n",
    "$$\n",
    "\n",
    "* **EoRT in terms of Optical Depth:**\n",
    "$$\n",
    "{\\displaystyle {\\begin{aligned}{dI_{\\nu } \\over d\\tau _{\\nu }}&={j_{\\nu } \\over \\alpha _{\\nu }}-I_{\\nu }\\\\&=S_{\\nu }-I_{\\nu }\\\\\\end{aligned}}\\,\\!}\n",
    "$$\n",
    "\n",
    "* $\\alpha_\\nu \\equiv n \\sigma_\\nu \\equiv \\rho \\kappa_\\nu$ is the extinction coefficient with units of inverse length squared.\n",
    "\n",
    "* $j_\\nu$ is the emissivity and has units of specific intensity divided by length. \n",
    "\n",
    "* $S_\\nu \\equiv \\frac{j_\\nu}{\\alpha_\\nu}$ is the source function."
   ]
  }
 ],
 "metadata": {
  "kernelspec": {
   "display_name": "Python 3",
   "language": "python",
   "name": "python3"
  },
  "language_info": {
   "codemirror_mode": {
    "name": "ipython",
    "version": 3
   },
   "file_extension": ".py",
   "mimetype": "text/x-python",
   "name": "python",
   "nbconvert_exporter": "python",
   "pygments_lexer": "ipython3",
   "version": "3.7.6"
  }
 },
 "nbformat": 4,
 "nbformat_minor": 4
}