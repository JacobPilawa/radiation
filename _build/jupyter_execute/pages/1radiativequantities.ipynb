{
 "cells": [
  {
   "cell_type": "markdown",
   "metadata": {},
   "source": [
    "# Radiative Quantities"
   ]
  },
  {
   "cell_type": "markdown",
   "metadata": {},
   "source": [
    "## Specific Intensity"
   ]
  },
  {
   "cell_type": "markdown",
   "metadata": {},
   "source": [
    "Specific intensity (SI), $I_\\nu$ is the amount of flux radiated per solid angle per unit bandwidth. SI is so constructed because it is conserved along a ray. This makes it a useful quantity for propagating radiative quantities in numerical and theoretical simulations, and for forming an observable quantity that all observers can agree upon (given certain telescope conditions). "
   ]
  },
  {
   "cell_type": "markdown",
   "metadata": {},
   "source": [
    "Specific intensity may be written $I_\\nu$ or $I_\\lambda$, with units: "
   ]
  },
  {
   "cell_type": "markdown",
   "metadata": {},
   "source": [
    "$$\n",
    "\\boxed{I_\\nu = \\frac{\\text{ergs}}{\\text{s} \\cdot \\text{sr} \\cdot \\text{cm}^2 \\cdot \\text{Hz}}}\n",
    "$$\n",
    "\n",
    "$$\n",
    "\\boxed{I_\\lambda = \\frac{\\text{ergs}}{\\text{s} \\cdot \\text{sr} \\cdot \\text{cm}^2 \\cdot \\text{cm}}}\n",
    "$$"
   ]
  },
  {
   "cell_type": "markdown",
   "metadata": {},
   "source": [
    "Note that $I_\\nu \\neq I_\\lambda$ because $d\\nu \\neq d\\lambda$. However:\n",
    "\n",
    "$$\n",
    "\\nu I_\\nu = \\lambda I_\\lambda\n",
    "$$"
   ]
  },
  {
   "cell_type": "markdown",
   "metadata": {},
   "source": [
    "## Other Units of Radiation"
   ]
  },
  {
   "cell_type": "markdown",
   "metadata": {},
   "source": [
    "We can motivate using SI by comparing it to other ways we have of describing energy transfer. Some of tese other ways are:\n",
    "\n",
    "\n",
    "\n",
    "* **Voltage**\n",
    "\n",
    "* **Power:** can be averaged over time, but contains no information on the bandwidth the measurement was made over. The unit dBm may not be familiar to most astronomers. It refers to decibels relative to a milliwatt:\n",
    "\n",
    "$$\n",
    "{P_{\\rm {dBm}}=10\\log _{10}\\left({\\frac {P}{1~{\\rm {mW}}}}\\right)\\,\\!}\n",
    "$$\n",
    "\n",
    "* **Power Density:** (with units of ergs/s/Hz, or dBm/Hz), divides out by the bandwidth $B$ that the measurement is made over. However, it contains no information about how large an area this signal was collected over.\n",
    "\n",
    "\n",
    "* **Flux**: Flux, $F$, (with units of ergs/s/cm$^{2}$) divides power received by the area the signal was collected over, but it does not divide by the bandwidth. Because flux has a notion of area (i.e. the surface through which power has passed), flux has an associated direction normal to that surface. Thus, depending which side of a surface you are measuring flux on (defined by the handedness of the perimeter of your surface), you can have a positive or negative flux, even though power is always positive.\n",
    "\n",
    "\n",
    "* **Flux Density**: Flux density, $F_\\nu$, (with units of ergs/(s cm$^2$ Hz), or Jy) combines the concepts of power density and flux to get a measurement that divides out both bandwidth and collecting area.  \n",
    "Most astronomers can agree on the flux density of a source, but **if the beam of your telescope is smaller than the source on the sky**, you can get a different answer because you are not be getting all the photons from that source--you are only getting the ones illuminated by your beam.\n",
    "Flux density is power per unit frequency passing through a \n",
    "differential area whose normal is $\\hat n$.  It relates to a plane-parallel specific intensity ($I_\\nu$) by integrating over solid angle\n",
    "$$\n",
    "F_\\nu=\\int{I_\\nu\\cos\\theta d\\Omega},\n",
    "$$\n",
    "\n",
    "where $\\theta$ is the angle between $\\hat n$ (the normal vector of the surface) and the direction of incidence of the specific intensity.\n",
    "Radio astronomers commonly use flux densities with units of Janskies.  A Jansky is defined as:\n",
    "\n",
    "$$\n",
    "1~{\\rm Jy}\\equiv 1e-23 \\frac{\\rm erg}{{\\rm s}\\cdot {\\rm cm}^2\\cdot {\\rm Hz}}\n",
    "$$\n",
    "\n",
    "\n",
    "* **Specific Intensity**\n",
    "Specific intensity (with units of ergs/(s cm$^2$ Hz sr), Jy/beam) divides flux density by the angular area of the measurement (or of the source), and is intrinsic to source.  Just like flux, specific intensity has a notion of area, and therefore, a notion of propagation in the direction normal to that surface, $\\hat n$.  Unlike flux density, specific intensity is conserved along a ray.\n",
    "Flux density (above) is related to specific intensity by integrating over solid angle:\n",
    "\n",
    "\n",
    "\n",
    "* **Brightness Temperature**\n",
    "Brightness temperature (with units of K) uses the Rayleigh-Jeans tail of a blackbody spectrum to define an equivalent temperature corresponding to a specific intensity.  It is often used as a proxy for specific intensity. (See below and [[Black-Body Radiation]].)\n",
    "\n",
    "$$\n",
    "I_\\nu=\\frac{2kT_b}{\\lambda^2}\n",
    "$$\n"
   ]
  },
  {
   "cell_type": "markdown",
   "metadata": {},
   "source": [
    "## The Blackbody"
   ]
  },
  {
   "cell_type": "markdown",
   "metadata": {},
   "source": [
    "\n",
    "A blackbody is the simplest source: it absorbs and reemits radiation with\n",
    "100\\% efficiency.  The frequency content of blackbody radiation is given by\n",
    "the *_Planck Function_*:\n",
    "\n",
    "$$\\def\\ehv{e^{{h\\nu \\over kT}}}$$\n",
    "$$B_\\nu={h\\nu\\over\\lambda^2}{2\\over(\\ehv-1)}$$\n",
    "\n",
    "\n",
    "$$\n",
    "\\boxed{B_\\nu = \\frac{2h\\nu^3}{c^2} \\frac{1}{\\ehv - 1}} \\neq B_\\lambda\n",
    "$$\n",
    "\n",
    "Derivation:\n",
    "The \\# density of photons having frequency between $\\nu$ and $\\nu+d\\nu$ has\n",
    "to equal the \\# density of phase-space cells in that region, multiplied by\n",
    "the occupation \\# per cell.  Thus:\n",
    "\n",
    "$$\n",
    "n_\\nu d\\nu={4\\pi\\nu^2d\\nu\\over c^3}{2\\over\\ehv-1}\n",
    "$$\n",
    "\n",
    "However,\n",
    "\n",
    "$$\n",
    "h\\nu{n_\\nu c\\over 4\\pi}=I_\\nu=B_\\nu\n",
    "$$\n",
    "\n",
    "so we have it.  \n",
    "\n",
    "In the limit that $h\\nu\\gg kT$ (Wein Tail):\n",
    "\n",
    "$$\n",
    "B_\\nu\\approx{2h\\nu^3\\over c^2}e^{-{h\\nu\\over kT}}\n",
    "$$\n",
    "\n",
    "\n",
    "If $h\\nu\\ll kT$ (Rayleigh-Jeans tail):\n",
    "\n",
    "$$\n",
    "B_\\nu\\approx{2kT\\over\\lambda^2}\n",
    "$$\n",
    "\n",
    "Note that this tail peaks at $\\sim {3kT\\over h}$. Also,\n",
    "$$\n",
    "\\nu I_\\nu=\\lambda I_\\lambda\n",
    "$$"
   ]
  },
  {
   "cell_type": "code",
   "execution_count": null,
   "metadata": {},
   "outputs": [],
   "source": []
  }
 ],
 "metadata": {
  "kernelspec": {
   "display_name": "Python 3",
   "language": "python",
   "name": "python3"
  },
  "language_info": {
   "codemirror_mode": {
    "name": "ipython",
    "version": 3
   },
   "file_extension": ".py",
   "mimetype": "text/x-python",
   "name": "python",
   "nbconvert_exporter": "python",
   "pygments_lexer": "ipython3",
   "version": "3.7.6"
  }
 },
 "nbformat": 4,
 "nbformat_minor": 4
}